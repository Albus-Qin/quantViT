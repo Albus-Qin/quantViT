{
 "cells": [
  {
   "cell_type": "code",
   "execution_count": 13,
   "id": "f1c2f869",
   "metadata": {},
   "outputs": [],
   "source": [
    "import numpy as np\n",
    "import matplotlib.pyplot as plt\n",
    "import seaborn as sns\n",
    "loaddata = np.load('one_attn.npy')"
   ]
  },
  {
   "cell_type": "code",
   "execution_count": 25,
   "id": "5a6bb84e",
   "metadata": {},
   "outputs": [
    {
     "data": {
      "text/plain": [
       "(197, 197)"
      ]
     },
     "execution_count": 25,
     "metadata": {},
     "output_type": "execute_result"
    }
   ],
   "source": [
    "loaddata.shape"
   ]
  },
  {
   "cell_type": "code",
   "execution_count": 4,
   "id": "6d0609b4",
   "metadata": {},
   "outputs": [],
   "source": [
    "loaddata = loaddata.flatten()"
   ]
  },
  {
   "cell_type": "code",
   "execution_count": 33,
   "id": "2efcd978",
   "metadata": {},
   "outputs": [
    {
     "data": {
      "text/plain": [
       "array([9.88026619e-01, 1.27519442e-07, 3.32085079e-08, 9.53423935e-08,\n",
       "       7.39972904e-07, 8.03023909e-07, 1.48896097e-05, 1.11050154e-04,\n",
       "       5.77261817e-05, 1.34277370e-05, 2.67876362e-06, 1.12638276e-07,\n",
       "       2.41515153e-07, 4.13549941e-08, 7.26960963e-08, 2.50166238e-07,\n",
       "       6.50507673e-07, 3.64361000e-07, 1.31357547e-06, 6.50702214e-06,\n",
       "       5.77598294e-05, 3.16960650e-04, 3.85004765e-04, 4.46605845e-05,\n",
       "       4.66159281e-06, 8.52981373e-07, 1.14351258e-06, 1.30623178e-07,\n",
       "       1.98426747e-07, 3.67182281e-07, 1.40024872e-06, 6.26805388e-07,\n",
       "       3.54795634e-06, 1.01396072e-05, 1.01816375e-04, 9.76704760e-04,\n",
       "       5.03226707e-04, 3.86246102e-05, 7.83491396e-06, 2.86370823e-06,\n",
       "       6.24855545e-07, 1.10322901e-07, 3.13856873e-07, 7.28151619e-08,\n",
       "       3.41833697e-07, 1.67168344e-06, 1.38465039e-05, 1.96234014e-05,\n",
       "       7.86254604e-05, 1.10361958e-03, 5.42932597e-04, 5.49839860e-05,\n",
       "       1.28099045e-05, 3.87190767e-06, 6.79244522e-07, 1.10015691e-07,\n",
       "       9.65713767e-08, 1.15248397e-07, 2.89863522e-07, 9.96292329e-07,\n",
       "       2.04226376e-06, 2.18834793e-06, 6.78012948e-05, 4.02882084e-04,\n",
       "       5.56338171e-04, 6.29368442e-05, 1.32867863e-05, 1.98789189e-06,\n",
       "       2.08426940e-07, 3.13120978e-08, 4.89567960e-08, 2.09952997e-08,\n",
       "       6.71385862e-08, 2.56947885e-07, 8.06556727e-07, 5.25068526e-06,\n",
       "       9.32709881e-05, 7.92527790e-05, 1.70592306e-04, 3.47062196e-05,\n",
       "       9.50358299e-06, 1.35128619e-06, 1.16497425e-07, 1.14807133e-08,\n",
       "       1.85395983e-08, 8.00652202e-08, 3.16830082e-08, 1.61899152e-07,\n",
       "       1.91863546e-06, 6.31376679e-06, 6.73944523e-05, 2.45950156e-04,\n",
       "       2.29109559e-04, 6.74237017e-05, 1.17743712e-05, 3.01609498e-06,\n",
       "       1.74944915e-07, 2.62148827e-08, 5.30081721e-08, 1.34123141e-07,\n",
       "       1.02067034e-07, 8.60361183e-07, 5.72842964e-06, 1.26838431e-05,\n",
       "       7.68927857e-05, 5.41765476e-04, 2.75090686e-04, 2.53984908e-05,\n",
       "       3.00351567e-05, 7.48099137e-06, 9.62331910e-07, 4.81493942e-07,\n",
       "       3.07123372e-07, 1.12805544e-07, 1.81894833e-07, 8.63166122e-07,\n",
       "       5.40134715e-06, 3.46545567e-05, 1.75137815e-04, 3.27053247e-04,\n",
       "       3.90342786e-04, 5.07232326e-05, 8.37785774e-06, 4.92740946e-06,\n",
       "       8.03109685e-07, 9.54939949e-08, 3.60378209e-07, 4.61244447e-08,\n",
       "       9.93797045e-08, 3.16621197e-07, 3.56299438e-06, 1.03700568e-05,\n",
       "       4.28907624e-05, 1.28828426e-04, 1.84086632e-04, 1.41606157e-04,\n",
       "       6.40700137e-06, 1.97259487e-06, 1.49544644e-06, 5.94639076e-08,\n",
       "       7.51483498e-08, 7.66420669e-08, 1.28330740e-07, 2.24470085e-07,\n",
       "       3.54748778e-07, 1.91655795e-06, 3.44715882e-05, 1.21450546e-04,\n",
       "       3.16596619e-04, 2.35664356e-05, 3.03476554e-06, 8.89855357e-07,\n",
       "       6.43671967e-07, 3.17550160e-07, 2.01285761e-08, 2.42608678e-07,\n",
       "       5.35761657e-08, 1.04882432e-07, 4.72624322e-07, 2.36908545e-06,\n",
       "       2.33231076e-05, 1.64022596e-04, 1.42671473e-04, 3.91607173e-05,\n",
       "       2.61504874e-06, 9.00990642e-07, 1.16372725e-07, 1.41998724e-08,\n",
       "       1.62574807e-07, 2.57992951e-07, 3.92814350e-08, 2.41929399e-07,\n",
       "       9.04482533e-07, 1.98756297e-05, 1.95814682e-05, 1.82743621e-04,\n",
       "       5.92400844e-04, 7.76082088e-05, 4.81042571e-06, 1.42604813e-06,\n",
       "       2.51544947e-07, 5.63826852e-08, 6.84092569e-08, 3.59267062e-07,\n",
       "       1.21872702e-07, 8.01661088e-07, 1.64011794e-06, 9.26031953e-06,\n",
       "       1.08949105e-04, 1.07966182e-04, 7.60279829e-04, 4.58921859e-05,\n",
       "       1.28667507e-05, 1.37071493e-06, 6.90607294e-07, 1.74430454e-07,\n",
       "       1.75934730e-07], dtype=float32)"
      ]
     },
     "execution_count": 33,
     "metadata": {},
     "output_type": "execute_result"
    }
   ],
   "source": [
    "loaddata[9]"
   ]
  },
  {
   "cell_type": "code",
   "execution_count": 12,
   "id": "85412663",
   "metadata": {},
   "outputs": [
    {
     "data": {
      "image/png": "[encoded data removed]",
      "text/plain": [
       "<Figure size 432x288 with 1 Axes>"
      ]
     },
     "metadata": {
      "needs_background": "light"
     },
     "output_type": "display_data"
    }
   ],
   "source": [
    "fig, ax = plt.subplots()\n",
    "sns.histplot(loaddata, ax=ax)  # distplot is deprecate and replaced by histplot\n",
    "ax.set_xlim(0.000001,1)\n",
    "ax.set_xticks(range(1,100))\n",
    "plt.xscale('log')\n",
    "plt.show()"
   ]
  },
  {
   "cell_type": "code",
   "execution_count": null,
   "id": "a159eb02",
   "metadata": {},
   "outputs": [],
   "source": []
  }
 ],
 "metadata": {
  "kernelspec": {
   "display_name": "Python 3 (ipykernel)",
   "language": "python",
   "name": "python3"
  },
  "language_info": {
   "codemirror_mode": {
    "name": "ipython",
    "version": 3
   },
   "file_extension": ".py",
   "mimetype": "text/x-python",
   "name": "python",
   "nbconvert_exporter": "python",
   "pygments_lexer": "ipython3",
   "version": "3.9.7"
  }
 },
 "nbformat": 4,
 "nbformat_minor": 5
}
